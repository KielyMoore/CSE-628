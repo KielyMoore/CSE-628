{
 "cells": [
  {
   "cell_type": "code",
   "execution_count": 1,
   "metadata": {},
   "outputs": [],
   "source": [
    "using FileIO\n",
    "using GLMakie\n",
    "GLMakie.activate!()"
   ]
  },
  {
   "cell_type": "code",
   "execution_count": 2,
   "metadata": {},
   "outputs": [
    {
     "data": {
      "text/plain": [
       "\"\""
      ]
     },
     "metadata": {},
     "output_type": "display_data"
    }
   ],
   "source": [
    "# Load Object Files\n",
    "tetra = load(\"./data/models/4_tetrahedron.obj\")\n",
    "hexa = load(\"./data/models/6_hexahedron.obj\")\n",
    "octa = load(\"./data/models/8_octahedron.obj\")\n",
    "dodeca = load(\"./data/models/12_dodecahedron.obj\")\n",
    "icosa = load(\"./data/models/20_icosahedron.obj\")\n",
    "\"\""
   ]
  },
  {
   "cell_type": "code",
   "execution_count": 21,
   "metadata": {},
   "outputs": [],
   "source": [
    "scene = Scene()\n",
    "cam3d!(scene)\n",
    "\n",
    "tm = mesh!(scene, tetra, color=:blue)\n",
    "tw = wireframe!(scene, tetra)\n",
    "translate!(tm, 5, 0, 0)\n",
    "translate!(tw, 5, 0, 0)\n",
    "\n",
    "hm = mesh!(scene, hexa, color=:green)\n",
    "hw = wireframe!(scene, hexa)\n",
    "translate!(hm, 0, 5, 0)\n",
    "translate!(hw, 0, 5, 0)\n",
    "\n",
    "om = mesh!(scene, octa, color=:yellow)\n",
    "ow = wireframe!(scene, octa)\n",
    "translate!(om, -5, 0, 0)\n",
    "translate!(ow, -5, 0, 0)\n",
    "\n",
    "dm = mesh!(scene, dodeca, color=:orange)\n",
    "dw = wireframe!(scene, dodeca)\n",
    "translate!(dm, 0, -5, 0)\n",
    "translate!(dw, 0, -5, 0)\n",
    "\n",
    "im = mesh!(scene, icosa, color=:red)\n",
    "iw = wireframe!(scene, icosa)\n",
    "scene"
   ]
  },
  {
   "cell_type": "code",
   "execution_count": 4,
   "metadata": {},
   "outputs": [
    {
     "data": {
      "text/plain": [
       "GLMakie.Screen(...)"
      ]
     },
     "metadata": {},
     "output_type": "display_data"
    }
   ],
   "source": [
    "fig = Figure()\n",
    "ax = Axis(fig[1,1], title = \"y² = x³ + ax + b\")\n",
    "\n",
    "\n",
    "# Slider Objects \n",
    "sa = Slider(fig[2,1][1,1], range = -5:0.01:5, startvalue = 1)\n",
    "sb = Slider(fig[2,1][1,2], range = -5:0.01:5, startvalue = 1)\n",
    "la = lift(a -> string(\"a = \", a), sa.value)\n",
    "lb = lift(b -> string(\"b = \", b), sb.value)\n",
    "Label(fig[2,1][2, 1], la, tellwidth = false)\n",
    "Label(fig[2,1][2, 2], lb, tellwidth = false)\n",
    "\n",
    "data = lift(sa.value, sb.value) do a, b\n",
    "    function f(x, y)\n",
    "        x^3 + a*x + b - y^2\n",
    "    end\n",
    "    return f\n",
    "end\n",
    "\n",
    "# X and Y sample range\n",
    "xs = range(-8, 8, length=100)\n",
    "ys = range(-6, 8, length=100)\n",
    "\n",
    "# Plot Contour\n",
    "contour!(ax, xs, ys, data; levels=[0])\n",
    "\n",
    "# Adjust Axis limits\n",
    "on(data) do val \n",
    "    autolimits!(ax) \n",
    "end\n",
    "\n",
    "display(fig)"
   ]
  },
  {
   "cell_type": "code",
   "execution_count": 2,
   "metadata": {},
   "outputs": [
    {
     "data": {
      "text/plain": [
       "parametric_grid (generic function with 1 method)"
      ]
     },
     "metadata": {},
     "output_type": "display_data"
    }
   ],
   "source": [
    "function parametric_grid(us, vs, r)\n",
    "    n,m = length(us), length(vs)\n",
    "    xs, ys, zs = zeros(n,m), zeros(n,m), zeros(n,m)\n",
    "    for (i, uᵢ) in pairs(us)\n",
    "        for (j, vⱼ) in pairs(vs)\n",
    "            x,y,z = r(uᵢ, vⱼ)\n",
    "            xs[i,j] = x\n",
    "            ys[i,j] = y\n",
    "            zs[i,j] = z\n",
    "        end\n",
    "    end\n",
    "    (xs, ys, zs)\n",
    "end"
   ]
  },
  {
   "cell_type": "code",
   "execution_count": 3,
   "metadata": {},
   "outputs": [
    {
     "data": {
      "text/plain": [
       "GLMakie.Screen(...)"
      ]
     },
     "metadata": {},
     "output_type": "display_data"
    }
   ],
   "source": [
    "fig = Figure()\n",
    "\n",
    "# ax = Axis(fig[1,1], title = \"Interactive Torus\")\n",
    "ax = Axis3(fig[1,1], title = \"Interactive Torus\")\n",
    "xlims!(ax,-5,5)\n",
    "ylims!(ax,-5,5)\n",
    "zlims!(ax,-1,1)\n",
    "\n",
    "# Slider Objects \n",
    "sr1 = Slider(fig[2,1][1,1], range = 2:0.1:4, startvalue = 2)\n",
    "sr2 = Slider(fig[2,1][1,2], range = 0.5:0.1:1.5, startvalue = 0.5)\n",
    "lr1 = lift(r1 -> string(\"R₁ = \", r1), sr1.value)\n",
    "lr2 = lift(r2 -> string(\"R₂ = \", r2), sr2.value)\n",
    "Label(fig[2,1][2, 1], lr1, tellwidth = false)\n",
    "Label(fig[2,1][2, 2], lr2, tellwidth = false)\n",
    "\n",
    "# inital plot \n",
    "r1 = 2; r2 = 1/2\n",
    "us = vs = range(0, 2pi, length=25)\n",
    "r(u,v) = ((r1 + r2*cos(v))*cos(u), (r1 + r2*cos(v))*sin(u), r2*sin(v))\n",
    "xs, ys, zs = parametric_grid(us, vs, r)\n",
    "surface!(ax, xs, ys, zs)\n",
    "\n",
    "# Parametric Equation updata Observable\n",
    "fr = lift(sr1.value, sr2.value) do R₁, R₂\n",
    "    function f(u, v)\n",
    "        ((R₁ + R₂*cos(v))*cos(u), (R₁ + R₂*cos(v))*sin(u), R₂*sin(v))\n",
    "    end\n",
    "    return f\n",
    "end\n",
    "\n",
    "# X Y Z data update Observable\n",
    "result = lift(fr) do R\n",
    "    xs, ys, zs = parametric_grid(us, vs, R)\n",
    "    return (xs, ys, zs)\n",
    "end \n",
    "\n",
    "# add new surface on obsevable\n",
    "on(result) do (xs, ys, zs)\n",
    "    while !isempty(ax.scene.plots)\n",
    "        delete!(ax.scene, ax.scene.plots[end])\n",
    "    end\n",
    "    surface!(ax, xs, ys, zs)\n",
    "    # autolimits!(ax)\n",
    "end\n",
    "\n",
    "display(fig)"
   ]
  }
 ],
 "metadata": {
  "kernelspec": {
   "display_name": "Julia 1.9.0",
   "language": "julia",
   "name": "julia-1.9"
  },
  "language_info": {
   "file_extension": ".jl",
   "mimetype": "application/julia",
   "name": "julia",
   "version": "1.9.0"
  }
 },
 "nbformat": 4,
 "nbformat_minor": 2
}
