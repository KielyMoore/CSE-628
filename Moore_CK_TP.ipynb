{
 "cells": [
  {
   "cell_type": "code",
   "execution_count": 2,
   "metadata": {},
   "outputs": [],
   "source": [
    "using GLMakie, Observables\n",
    "GLMakie.activate!()"
   ]
  },
  {
   "cell_type": "code",
   "execution_count": 34,
   "metadata": {},
   "outputs": [
    {
     "data": {
      "text/plain": [
       "GLMakie.Screen(...)"
      ]
     },
     "metadata": {},
     "output_type": "display_data"
    }
   ],
   "source": [
    "# Create Figure with one axis\n",
    "fig = Figure()\n",
    "ax = Axis(fig[1,1], title=\"Interactive Projectile\")\n",
    "\n",
    "# Set Plot Limits\n",
    "xlims!(ax, 0, 500)\n",
    "ylims!(ax, 0, 500)\n",
    "\n",
    "# set inital slider values\n",
    "init_power = 50\n",
    "init_angle = 45\n",
    "\n",
    "# Figure Interactibles\n",
    "power_slider = Slider(fig[2,1], range= 30:100, startvalue= init_power)\n",
    "angle_slider = Slider(fig[1,2], range= 10:80, startvalue= init_angle, horizontal= false)\n",
    "fire_button = Button(fig[2,2], label=\"Fire\")\n",
    "\n",
    "angle_label = lift(a -> string(\"angle = \", a), angle_slider.value)\n",
    "power_label = lift(p -> string(\"power = \", p), power_slider.value)\n",
    "\n",
    "Label(fig[3,1][1,1], power_label, tellwidth = false)\n",
    "Label(fig[3,1][1,2], angle_label, tellwidth = false)\n",
    "\n",
    "# Projectile statistics\n",
    "max_height = Observable(0.0)\n",
    "max_dist = Observable(0.0)\n",
    "travel = Observable(0.0)\n",
    "\n",
    "mh_label = lift(h -> string(\"Max Height: \", round(h; digits=3), \"m\"), max_height)\n",
    "md_label = lift(d -> string(\"Travel Distance: \", round(d; digits=3), \"m\"), max_dist)\n",
    "tr_label = lift(t -> string(\"Travel Time: \", round(t; digits=3), \"s\"), travel)\n",
    "\n",
    "Label(fig[4,1][1,1], mh_label, tellwidth = false)\n",
    "Label(fig[4,1][1,2], md_label, tellwidth = false)\n",
    "Label(fig[4,1][1,3], tr_label, tellwidth = false)\n",
    "\n",
    "# Arrow Observable\n",
    "arrow = lift(angle_slider.value, power_slider.value) do θ, R\n",
    "    Δx = R*cosd(θ)\n",
    "    Δy = R*sind(θ)\n",
    "    return (Δx, Δy)\n",
    "end\n",
    "\n",
    "# Plot inital arrow\n",
    "arrows!([0], [0], [init_power*cosd(init_angle)], [init_power*sind(init_angle)])\n",
    "\n",
    "# Update arrow on slider changes.\n",
    "on(arrow) do (dx, dy)\n",
    "    empty!(ax)\n",
    "    arrows!([0], [0], [dx], [dy])\n",
    "end\n",
    "\n",
    "# Get projectiles position at time t\n",
    "function getPoint(t)\n",
    "    V₀ = power_slider.value[]\n",
    "    Θ = angle_slider.value[]\n",
    "    g = 9.8\n",
    "    x = V₀ * cosd(Θ)t\n",
    "    y = V₀ * sind(Θ)t - 0.5g * t^2\n",
    "    return Point2f(x, y)\n",
    "end\n",
    "\n",
    "# Start Projectile on button click.\n",
    "on(fire_button.clicks) do n\n",
    "    empty!(ax)\n",
    "    points = Observable([Point2f(0,0)])\n",
    "    max_height[] = 0\n",
    "    max_dist[] = 0\n",
    "    scatter!(ax, points)\n",
    "    t = 0\n",
    "    while true\n",
    "        newP = getPoint(t)\n",
    "        if newP[2] < 0\n",
    "            travel[] = t\n",
    "            break\n",
    "        end\n",
    "        points[] = push!(points[], newP)\n",
    "        if newP[2] > max_height[]\n",
    "            max_height[] = newP[2]\n",
    "        end\n",
    "        max_dist[] = newP[1]\n",
    "        t += 0.1\n",
    "    end   \n",
    "end\n",
    "\n",
    "display(fig)"
   ]
  }
 ],
 "metadata": {
  "kernelspec": {
   "display_name": "Julia 1.9.0",
   "language": "julia",
   "name": "julia-1.9"
  },
  "language_info": {
   "file_extension": ".jl",
   "mimetype": "application/julia",
   "name": "julia",
   "version": "1.9.0"
  }
 },
 "nbformat": 4,
 "nbformat_minor": 2
}
